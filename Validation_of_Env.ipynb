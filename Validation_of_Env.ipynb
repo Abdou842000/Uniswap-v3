{
 "cells": [
  {
   "cell_type": "markdown",
   "metadata": {},
   "source": [
    "# Testing of the Backtesting Environment"
   ]
  },
  {
   "cell_type": "code",
   "execution_count": null,
   "metadata": {},
   "outputs": [],
   "source": [
    "import sys\n",
    "# setting path\n",
    "sys.path.append(\"C:/Users/abderrahim.namouh/Documents/OneDrive - Mazars/Projet/uniswap-v3\")  # Edit your path\n",
    "import numpy as np\n",
    "import pandas as pd\n",
    "from Strat_backtesting_env import LiquidityPool\n",
    "import matplotlib.pyplot as plt"
   ]
  },
  {
   "cell_type": "markdown",
   "metadata": {},
   "source": [
    "## LP's strategy simulation"
   ]
  },
  {
   "cell_type": "markdown",
   "metadata": {},
   "source": [
    "### Data preparation"
   ]
  },
  {
   "cell_type": "code",
   "execution_count": 2,
   "metadata": {},
   "outputs": [],
   "source": [
    "LP_id = '0x86426AD2B71f41a5d545E5e2F63c76913D93E1A5'\n",
    "\n",
    "# Data load\n",
    "contract = pd.read_csv('../../total_historical_swaps.csv', index_col=0)\n",
    "contract['timestamp'] = pd.to_datetime(contract['timestamp'])\n",
    "mints = pd.read_csv(\"../../historical_mints.csv\")\n",
    "burns = pd.read_csv(\"../../historical_burns.csv\")\n",
    "collects = pd.read_csv(\"../../historical_collects.csv\")\n",
    "\n",
    "mints['timestamp'] = pd.to_datetime(mints['timestamp'])\n",
    "burns['timestamp'] = pd.to_datetime(burns['timestamp'])\n",
    "collects['timestamp'] = pd.to_datetime(collects['timestamp'])\n",
    "\n",
    "contract['liquidity'] = contract['liquidity'].astype(float)/(10**12)\n",
    "mints['liquidity'] = mints['liquidity'].astype(float)/(10**12)\n",
    "burns['liquidity'] = burns['liquidity'].astype(float)/(10**12)\n",
    "\n",
    "# Filter to get the LP\n",
    "lp_mints = mints[mints['owner']==LP_id][['timestamp','tickLower', 'tickUpper','liquidity', 'amount0', 'amount1']]\n",
    "lp_burns = burns[burns['owner']==LP_id][['timestamp','tickLower', 'tickUpper','liquidity', 'amount0', 'amount1']]\n",
    "lp_collects = collects[collects['owner']==LP_id][['timestamp','tickLower', 'tickUpper', 'amount0', 'amount1']]\n",
    "\n",
    "start_ts, end_ts = pd.concat([lp_mints, lp_burns, lp_collects]).sort_values(by='timestamp').timestamp.min(), pd.concat([lp_mints, lp_burns, lp_collects]).sort_values(by='timestamp').timestamp.max()\n",
    "start_ts, end_ts = contract[contract.timestamp < start_ts].timestamp.max(), contract[contract.timestamp > end_ts].timestamp.min()\n",
    "lp_prices = contract[(contract.timestamp >= start_ts)&(contract.timestamp <= end_ts)][['timestamp','price']]\n",
    "\n",
    "# Categorize events\n",
    "lp_mints['type'] = 'mint'\n",
    "lp_burns['type'] = 'burn'\n",
    "lp_prices['type'] = 'pool'\n",
    "lp_collects['type'] = 'collect'\n",
    "\n",
    "# Concat and convert ticks format\n",
    "history_ops = pd.concat([lp_prices, lp_mints, lp_burns, lp_collects ]).sort_values(by='timestamp').reset_index(drop=True)\n",
    "history_ops['tickLower'] = 10**12/(1.0001**history_ops['tickLower'])\n",
    "history_ops['tickUpper'] = 10**12/(1.0001**history_ops['tickUpper'])"
   ]
  },
  {
   "cell_type": "markdown",
   "metadata": {},
   "source": [
    "### Launch the simulation"
   ]
  },
  {
   "cell_type": "code",
   "execution_count": 3,
   "metadata": {},
   "outputs": [],
   "source": [
    "test = history_ops"
   ]
  },
  {
   "cell_type": "markdown",
   "metadata": {},
   "source": [
    "### Initialize the pool"
   ]
  },
  {
   "cell_type": "code",
   "execution_count": 4,
   "metadata": {},
   "outputs": [],
   "source": [
    "initial_price, fee_tier = test.price.iloc[0], 0.05\n",
    "\n",
    "pool = LiquidityPool(initial_price, fee_tier, silence_mode=True)"
   ]
  },
  {
   "cell_type": "code",
   "execution_count": 5,
   "metadata": {},
   "outputs": [
    {
     "name": "stdout",
     "output_type": "stream",
     "text": [
      "Operations:\n"
     ]
    }
   ],
   "source": [
    "timestamps = dict()\n",
    "initials = [dict(),dict()]\n",
    "final_values = [dict(),dict()]\n",
    "prices = dict()\n",
    "\n",
    "print(\"Operations:\")\n",
    "f_0, f_1 = 0,0\n",
    "for i in range(len(test)):\n",
    "    if test.loc[i,'type'] == 'pool':\n",
    "        pool.swap_price(test.loc[i,'price'])\n",
    "    else:\n",
    "        # in the ETH/USDC pov, the lower/upper ticks are the upper/lower one in the USDC/ETH pov\n",
    "        if test.loc[i,'type'] == 'mint':\n",
    "            f0, f1 = pool.add_position_liquidity(test.loc[i,'tickUpper'],test.loc[i,'tickLower'],test.loc[i,'liquidity'])\n",
    "            ini0, ini1 =  initials[0].get((test.loc[i,'tickUpper'],test.loc[i,'tickLower']),(0,0))\n",
    "            initials[0][(test.loc[i,'tickUpper'],test.loc[i,'tickLower'])] = tuple(a+b for a,b in zip(pool.get_position_comp(test.loc[i,'tickUpper'],test.loc[i,'tickLower']), (ini0,ini1)))\n",
    "            ini0, ini1 =  initials[1].get((test.loc[i,'tickUpper'],test.loc[i,'tickLower']),(0,0))\n",
    "            initials[1][(test.loc[i,'tickUpper'],test.loc[i,'tickLower'])] = tuple(a+b for a,b in zip((test.loc[i,'amount1'],test.loc[i,'amount0']), (ini0,ini1)))\n",
    "            f_0 += f0\n",
    "            f_1 += f1\n",
    "\n",
    "        elif test.loc[i,'type'] == 'burn':\n",
    "            ((token0, token1)), f0, f1 = pool.burn_liquidity(test.loc[i,'tickUpper'],test.loc[i,'tickLower'],test.loc[i,'liquidity'])\n",
    "            final_value = (token0 * pool.current_price + token1)\n",
    "            final_values[0][(test.loc[i,'tickUpper'],test.loc[i,'tickLower'])] = final_values[0].get((test.loc[i,'tickUpper'],test.loc[i,'tickLower']),0) + (final_value + f0 * test.loc[i-1,'price'] + f1)\n",
    "            prices[(test.loc[i,'tickUpper'],test.loc[i,'tickLower'])] = test.loc[i-1,'price']\n",
    "            timestamps[(test.loc[i,'tickUpper'],test.loc[i,'tickLower'])] = test.loc[i,'timestamp']\n",
    "            f_0 += f0\n",
    "            f_1 += f1\n",
    "\n",
    "        elif test.loc[i,'type'] == 'collect':\n",
    "            final_value = test.loc[i,'amount1'] * pool.current_price + test.loc[i,'amount0']\n",
    "            final_values[1][(test.loc[i,'tickUpper'],test.loc[i,'tickLower'])] = final_values[1].get((test.loc[i,'tickUpper'],test.loc[i,'tickLower']),0) + final_value \n"
   ]
  },
  {
   "cell_type": "code",
   "execution_count": 6,
   "metadata": {},
   "outputs": [],
   "source": [
    "true_final_values = final_values[1]\n",
    "env_final_values = final_values[0]\n",
    "true_initials = initials[1]\n",
    "env_initials = initials[0]\n",
    "prices = dict(sorted(prices.items()))\n",
    "true_final_values = dict(sorted(true_final_values.items()))\n",
    "true_initials = dict(sorted(true_initials.items()))\n",
    "env_final_values = dict(sorted(env_final_values.items()))\n",
    "env_initials = dict(sorted(env_initials.items()))\n",
    "timestamps = dict(sorted(timestamps.items()))\n",
    "env_returns = [(f-(i1+p*i0))/(i1+p*i0) for f,p,(i0,i1) in zip(env_final_values.values(), prices.values(), env_initials.values())]\n",
    "true_returns = [(f-(i1+p*i0))/(i1+p*i0) for f,p,(i0,i1) in zip(true_final_values.values(), prices.values(), true_initials.values())]"
   ]
  },
  {
   "cell_type": "code",
   "execution_count": 7,
   "metadata": {},
   "outputs": [
    {
     "data": {
      "image/png": "[encoded data removed]",
      "text/plain": [
       "<Figure size 1200x600 with 1 Axes>"
      ]
     },
     "metadata": {},
     "output_type": "display_data"
    }
   ],
   "source": [
    "plt.figure(figsize=(12, 6))\n",
    "plt.scatter(timestamps.values(), true_returns, marker='o', linestyle='-', color='b', label='True Returns')\n",
    "plt.scatter(timestamps.values(), env_returns, marker='o', linestyle='-', color='r', alpha=0.8, label='Env Estimated Returns')\n",
    "plt.xlabel('Position Closing Date')\n",
    "plt.ylabel('Return')\n",
    "plt.title(\"Performance of the LP's positions\")\n",
    "plt.grid(True)\n",
    "plt.tight_layout()\n",
    "plt.legend()\n",
    "plt.show()"
   ]
  },
  {
   "cell_type": "code",
   "execution_count": 8,
   "metadata": {},
   "outputs": [],
   "source": [
    "env_results = pd.DataFrame({'timestamp' : timestamps.values(), 'return': env_returns})\n",
    "true_results = pd.DataFrame({'timestamp' : timestamps.values(), 'return': true_returns})"
   ]
  },
  {
   "cell_type": "code",
   "execution_count": 9,
   "metadata": {},
   "outputs": [],
   "source": [
    "env_results.sort_values(by='timestamp', inplace=True)\n",
    "env_results.reset_index(inplace=True)\n",
    "true_results.sort_values(by='timestamp', inplace=True)\n",
    "true_results.reset_index(inplace=True)"
   ]
  },
  {
   "cell_type": "code",
   "execution_count": 10,
   "metadata": {},
   "outputs": [
    {
     "name": "stdout",
     "output_type": "stream",
     "text": [
      "Relative Error on the Simulated Returned rel. to the Epirical Return: 26.97%\n"
     ]
    }
   ],
   "source": [
    "print(f\"Relative Error on the Simulated Returned rel. to the Epirical Return: {100*round((np.sqrt((2*(true_results['return']-env_results['return'])/(true_results['return']+env_results['return']))**2)).mean(), 4)}%\")"
   ]
  },
  {
   "cell_type": "code",
   "execution_count": 11,
   "metadata": {},
   "outputs": [
    {
     "name": "stdout",
     "output_type": "stream",
     "text": [
      "Relative Error on the Simulated Returned rel. to the Epirical Return: 26.97%\n"
     ]
    }
   ],
   "source": [
    "print(f\"Relative Error on the Simulated Returned rel. to the Epirical Return: {100*round((np.sqrt((2*(true_results['return']-env_results['return'])/(true_results['return']+env_results['return']))**2)).mean(), 4)}%\")"
   ]
  },
  {
   "cell_type": "markdown",
   "metadata": {},
   "source": [
    "### Gained fees"
   ]
  },
  {
   "cell_type": "code",
   "execution_count": 13,
   "metadata": {},
   "outputs": [
    {
     "data": {
      "text/html": [
       "<div>\n",
       "<style scoped>\n",
       "    .dataframe tbody tr th:only-of-type {\n",
       "        vertical-align: middle;\n",
       "    }\n",
       "\n",
       "    .dataframe tbody tr th {\n",
       "        vertical-align: top;\n",
       "    }\n",
       "\n",
       "    .dataframe thead th {\n",
       "        text-align: right;\n",
       "    }\n",
       "</style>\n",
       "<table border=\"1\" class=\"dataframe\">\n",
       "  <thead>\n",
       "    <tr style=\"text-align: right;\">\n",
       "      <th></th>\n",
       "      <th>block_number</th>\n",
       "      <th>timestamp</th>\n",
       "      <th>owner</th>\n",
       "      <th>tickLower</th>\n",
       "      <th>tickUpper</th>\n",
       "      <th>amount0</th>\n",
       "      <th>amount1</th>\n",
       "      <th>Day</th>\n",
       "    </tr>\n",
       "  </thead>\n",
       "  <tbody>\n",
       "    <tr>\n",
       "      <th>0</th>\n",
       "      <td>15000223</td>\n",
       "      <td>2022-06-21 03:29:10</td>\n",
       "      <td>0xC36442b4a4522E871399CD717aBDD847Ab11FE88</td>\n",
       "      <td>201940</td>\n",
       "      <td>208300</td>\n",
       "      <td>10220.925428</td>\n",
       "      <td>8.906536</td>\n",
       "      <td>2022-06-21</td>\n",
       "    </tr>\n",
       "    <tr>\n",
       "      <th>1</th>\n",
       "      <td>15000227</td>\n",
       "      <td>2022-06-21 03:30:35</td>\n",
       "      <td>0xC36442b4a4522E871399CD717aBDD847Ab11FE88</td>\n",
       "      <td>201940</td>\n",
       "      <td>208300</td>\n",
       "      <td>91228.646008</td>\n",
       "      <td>151.583922</td>\n",
       "      <td>2022-06-21</td>\n",
       "    </tr>\n",
       "    <tr>\n",
       "      <th>2</th>\n",
       "      <td>15000413</td>\n",
       "      <td>2022-06-21 04:22:07</td>\n",
       "      <td>0xC36442b4a4522E871399CD717aBDD847Ab11FE88</td>\n",
       "      <td>205490</td>\n",
       "      <td>206540</td>\n",
       "      <td>92027.937964</td>\n",
       "      <td>109.012750</td>\n",
       "      <td>2022-06-21</td>\n",
       "    </tr>\n",
       "    <tr>\n",
       "      <th>3</th>\n",
       "      <td>15000685</td>\n",
       "      <td>2022-06-21 05:26:45</td>\n",
       "      <td>0xC36442b4a4522E871399CD717aBDD847Ab11FE88</td>\n",
       "      <td>201960</td>\n",
       "      <td>208200</td>\n",
       "      <td>20246.439939</td>\n",
       "      <td>29.883500</td>\n",
       "      <td>2022-06-21</td>\n",
       "    </tr>\n",
       "    <tr>\n",
       "      <th>4</th>\n",
       "      <td>15000702</td>\n",
       "      <td>2022-06-21 05:31:43</td>\n",
       "      <td>0xC36442b4a4522E871399CD717aBDD847Ab11FE88</td>\n",
       "      <td>207650</td>\n",
       "      <td>207860</td>\n",
       "      <td>199999.999999</td>\n",
       "      <td>0.000000</td>\n",
       "      <td>2022-06-21</td>\n",
       "    </tr>\n",
       "  </tbody>\n",
       "</table>\n",
       "</div>"
      ],
      "text/plain": [
       "   block_number           timestamp  \\\n",
       "0      15000223 2022-06-21 03:29:10   \n",
       "1      15000227 2022-06-21 03:30:35   \n",
       "2      15000413 2022-06-21 04:22:07   \n",
       "3      15000685 2022-06-21 05:26:45   \n",
       "4      15000702 2022-06-21 05:31:43   \n",
       "\n",
       "                                        owner  tickLower  tickUpper  \\\n",
       "0  0xC36442b4a4522E871399CD717aBDD847Ab11FE88     201940     208300   \n",
       "1  0xC36442b4a4522E871399CD717aBDD847Ab11FE88     201940     208300   \n",
       "2  0xC36442b4a4522E871399CD717aBDD847Ab11FE88     205490     206540   \n",
       "3  0xC36442b4a4522E871399CD717aBDD847Ab11FE88     201960     208200   \n",
       "4  0xC36442b4a4522E871399CD717aBDD847Ab11FE88     207650     207860   \n",
       "\n",
       "         amount0     amount1         Day  \n",
       "0   10220.925428    8.906536  2022-06-21  \n",
       "1   91228.646008  151.583922  2022-06-21  \n",
       "2   92027.937964  109.012750  2022-06-21  \n",
       "3   20246.439939   29.883500  2022-06-21  \n",
       "4  199999.999999    0.000000  2022-06-21  "
      ]
     },
     "execution_count": 13,
     "metadata": {},
     "output_type": "execute_result"
    }
   ],
   "source": [
    "collects = pd.read_csv('../../historical_collects.csv')\n",
    "collects['timestamp'] = pd.to_datetime(collects['timestamp'])\n",
    "collects['Day'] = collects.timestamp.dt.date\n",
    "collects.head()"
   ]
  },
  {
   "cell_type": "code",
   "execution_count": 14,
   "metadata": {},
   "outputs": [
    {
     "name": "stdout",
     "output_type": "stream",
     "text": [
      "The LP earned the following fees: 6.613823109931955 ETH and 9185.492009999984 USDC\n",
      "According to the backtesting env, the LP earned the following fees: 6.808735627550796 ETH and 9451.067773791803 USDC\n"
     ]
    }
   ],
   "source": [
    "acc_fees = collects[collects['owner']==LP_id][['amount0','amount1']] .reset_index(drop=True)\n",
    "acc_fees['amount0'] =  acc_fees['amount0'] - lp_burns['amount0'].reset_index(drop=True)\n",
    "acc_fees['amount1'] =  acc_fees['amount1'] - lp_burns['amount1'].reset_index(drop=True)\n",
    "x,y = acc_fees.sum()\n",
    "print(f\"The LP earned the following fees: {y} ETH and {x} USDC\")\n",
    "print(f\"According to the backtesting env, the LP earned the following fees: {f_0} ETH and {f_1} USDC\")"
   ]
  }
 ],
 "metadata": {
  "kernelspec": {
   "display_name": "Python 3",
   "language": "python",
   "name": "python3"
  },
  "language_info": {
   "codemirror_mode": {
    "name": "ipython",
    "version": 3
   },
   "file_extension": ".py",
   "mimetype": "text/x-python",
   "name": "python",
   "nbconvert_exporter": "python",
   "pygments_lexer": "ipython3",
   "version": "3.11.7"
  }
 },
 "nbformat": 4,
 "nbformat_minor": 2
}
